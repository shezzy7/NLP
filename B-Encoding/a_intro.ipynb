{
 "cells": [
  {
   "cell_type": "markdown",
   "metadata": {},
   "source": [
    "# ***One Hot Encoding***"
   ]
  },
  {
   "cell_type": "markdown",
   "metadata": {},
   "source": [
    "After text processing we need to apply encoding on our text.As we need to convert our text to vectors for storing it in database for applying Machine learning algos on it.\n",
    "So there are multiple ways for converting text into vectors.One of them is one hot encoding."
   ]
  },
  {
   "cell_type": "markdown",
   "metadata": {},
   "source": []
  }
 ],
 "metadata": {
  "language_info": {
   "name": "python"
  }
 },
 "nbformat": 4,
 "nbformat_minor": 2
}
